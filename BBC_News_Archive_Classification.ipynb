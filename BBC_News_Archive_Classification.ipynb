{
  "nbformat": 4,
  "nbformat_minor": 0,
  "metadata": {
    "colab": {
      "provenance": []
    },
    "kernelspec": {
      "name": "python3",
      "display_name": "Python 3"
    },
    "language_info": {
      "name": "python"
    }
  },
  "cells": [
    {
      "cell_type": "markdown",
      "source": [
        "This project aims to create a classification model that classifies the categories of news articles from the BBC News archive."
      ],
      "metadata": {
        "id": "0GjPCSiZx9Jh"
      }
    },
    {
      "cell_type": "code",
      "execution_count": 42,
      "metadata": {
        "id": "VS_WaHlba4UL"
      },
      "outputs": [],
      "source": [
        "import io\n",
        "import csv\n",
        "import tensorflow as tf\n",
        "import numpy as np\n",
        "from tensorflow.keras.preprocessing.text import Tokenizer\n",
        "from tensorflow.keras.preprocessing.sequence import pad_sequences\n",
        "import matplotlib.pyplot as plt"
      ]
    },
    {
      "cell_type": "code",
      "source": [
        "with open(\"./BBC_News_Train.csv\", 'r') as csvfile:\n",
        "    print(f\"First line (header) looks like this:\\n\\n{csvfile.readline()}\")\n",
        "    print(f\"Each data point looks like this:\\n\\n{csvfile.readline()}\")"
      ],
      "metadata": {
        "colab": {
          "base_uri": "https://localhost:8080/"
        },
        "id": "iP3QP6-gbWFv",
        "outputId": "e4037011-a154-4aea-8aaf-8e766d7746fd"
      },
      "execution_count": 43,
      "outputs": [
        {
          "output_type": "stream",
          "name": "stdout",
          "text": [
            "First line (header) looks like this:\n",
            "\n",
            "ArticleId,Text,Category\n",
            "\n",
            "Each data point looks like this:\n",
            "\n",
            "1833,worldcom ex-boss launches defence lawyers defending former worldcom chief bernie ebbers against a battery of fraud charges have called a company whistleblower as their first witness.  cynthia cooper  worldcom s ex-head of internal accounting  alerted directors to irregular accounting practices at the us telecoms giant in 2002. her warnings led to the collapse of the firm following the discovery of an $11bn (£5.7bn) accounting fraud. mr ebbers has pleaded not guilty to charges of fraud and conspiracy.  prosecution lawyers have argued that mr ebbers orchestrated a series of accounting tricks at worldcom  ordering employees to hide expenses and inflate revenues to meet wall street earnings estimates. but ms cooper  who now runs her own consulting business  told a jury in new york on wednesday that external auditors arthur andersen had approved worldcom s accounting in early 2001 and 2002. she said andersen had given a  green light  to the procedures and practices used by worldcom. mr ebber s lawyers have said he was unaware of the fraud  arguing that auditors did not alert him to any problems.  ms cooper also said that during shareholder meetings mr ebbers often passed over technical questions to the company s finance chief  giving only  brief  answers himself. the prosecution s star witness  former worldcom financial chief scott sullivan  has said that mr ebbers ordered accounting adjustments at the firm  telling him to  hit our books . however  ms cooper said mr sullivan had not mentioned  anything uncomfortable  about worldcom s accounting during a 2001 audit committee meeting. mr ebbers could face a jail sentence of 85 years if convicted of all the charges he is facing. worldcom emerged from bankruptcy protection in 2004  and is now known as mci. last week  mci agreed to a buyout by verizon communications in a deal valued at $6.75bn.,business\n",
            "\n"
          ]
        }
      ]
    },
    {
      "cell_type": "code",
      "source": [
        "NUM_WORDS = 1000\n",
        "EMBEDDING_DIM = 16\n",
        "MAXLEN = 120\n",
        "PADDING = 'post'\n",
        "OOV_TOKEN = \"<OOV>\"\n",
        "TRAINING_SPLIT = .8"
      ],
      "metadata": {
        "id": "mYH9lfrJeFII"
      },
      "execution_count": 44,
      "outputs": []
    },
    {
      "cell_type": "markdown",
      "source": [
        "##Preprocessing the data\n",
        "This code removes the stopwords from text."
      ],
      "metadata": {
        "id": "VQvPpEnCeO27"
      }
    },
    {
      "cell_type": "code",
      "source": [
        "#args: sentence to remove stopwords from\n",
        "def remove_stopwords(sentence):\n",
        "\n",
        "  #defining stopwords\n",
        "  stopwords = [\"a\", \"about\", \"above\", \"after\", \"again\", \"against\", \"all\", \"am\", \"an\", \"and\", \"any\", \"are\", \"as\", \"at\", \"be\", \"because\", \"been\", \"before\", \"being\", \"below\", \"between\", \"both\", \"but\", \"by\", \"could\", \"did\", \"do\", \"does\", \"doing\", \"down\", \"during\", \"each\", \"few\", \"for\", \"from\", \"further\", \"had\", \"has\", \"have\", \"having\", \"he\", \"he'd\", \"he'll\", \"he's\", \"her\", \"here\", \"here's\", \"hers\", \"herself\", \"him\", \"himself\", \"his\", \"how\", \"how's\", \"i\", \"i'd\", \"i'll\", \"i'm\", \"i've\", \"if\", \"in\", \"into\", \"is\", \"it\", \"it's\", \"its\", \"itself\", \"let's\", \"me\", \"more\", \"most\", \"my\", \"myself\", \"nor\", \"of\", \"on\", \"once\", \"only\", \"or\", \"other\", \"ought\", \"our\", \"ours\", \"ourselves\", \"out\", \"over\", \"own\", \"same\", \"she\", \"she'd\", \"she'll\", \"she's\", \"should\", \"so\", \"some\", \"such\", \"than\", \"that\", \"that's\", \"the\", \"their\", \"theirs\", \"them\", \"themselves\", \"then\", \"there\", \"there's\", \"these\", \"they\", \"they'd\", \"they'll\", \"they're\", \"they've\", \"this\", \"those\", \"through\", \"to\", \"too\", \"under\", \"until\", \"up\", \"very\", \"was\", \"we\", \"we'd\", \"we'll\", \"we're\", \"we've\", \"were\", \"what\", \"what's\", \"when\", \"when's\", \"where\", \"where's\", \"which\", \"while\", \"who\", \"who's\", \"whom\", \"why\", \"why's\", \"with\", \"would\", \"you\", \"you'd\", \"you'll\", \"you're\", \"you've\", \"your\", \"yours\", \"yourself\", \"yourselves\" ]\n",
        "\n",
        "  #sentences converted to lowercase\n",
        "  sentence = sentence.lower()\n",
        "\n",
        "  words = sentence.split()\n",
        "  no_words = [w for w in words if w not in stopwords]\n",
        "  sentence = \" \".join(no_words)\n",
        "\n",
        "  return sentence"
      ],
      "metadata": {
        "id": "FMa8UGFEeVxx"
      },
      "execution_count": 45,
      "outputs": []
    },
    {
      "cell_type": "markdown",
      "source": [
        "This code loads the data from a csv file and extracts sentences and labels."
      ],
      "metadata": {
        "id": "F17e-SxKeyIG"
      }
    },
    {
      "cell_type": "code",
      "source": [
        "#arfs: filename (string) - path to the csv file\n",
        "def parse_data_from_file(filename):\n",
        "  sentences = []\n",
        "  labels = []\n",
        "  with open(filename, 'r') as csvfile: #open as read mode\n",
        "    reader = csv.reader(csvfile, delimiter = ',')\n",
        "    next(reader) #skips the header row\n",
        "    for row in reader:\n",
        "      labels.append(row[2])\n",
        "      sentence = row[1]\n",
        "      sentence = remove_stopwords(sentence)\n",
        "      sentences.append(sentence)\n",
        "\n",
        "  return sentences, labels"
      ],
      "metadata": {
        "id": "nzlsm1hue2gb"
      },
      "execution_count": 46,
      "outputs": []
    },
    {
      "cell_type": "code",
      "source": [
        "# Testing the functions\n",
        "sentences, labels = parse_data_from_file(\"./BBC_News_Train.csv\")\n",
        "\n",
        "print(f\"There are {len(sentences)} sentences in the dataset.\\n\")\n",
        "print(f\"First sentence has {len(sentences[0].split())} words (after removing stopwords).\\n\")\n",
        "print(f\"There are {len(labels)} labels in the dataset.\\n\")\n",
        "print(f\"The first 5 labels are {labels[:5]}\")"
      ],
      "metadata": {
        "colab": {
          "base_uri": "https://localhost:8080/"
        },
        "id": "Odu2iuS7lt_9",
        "outputId": "bf963fba-34f3-4d90-bbcb-7fc9ea0c9bcf"
      },
      "execution_count": 47,
      "outputs": [
        {
          "output_type": "stream",
          "name": "stdout",
          "text": [
            "There are 1490 sentences in the dataset.\n",
            "\n",
            "First sentence has 203 words (after removing stopwords).\n",
            "\n",
            "There are 1490 labels in the dataset.\n",
            "\n",
            "The first 5 labels are ['business', 'business', 'business', 'tech', 'business']\n"
          ]
        }
      ]
    },
    {
      "cell_type": "markdown",
      "source": [
        "##Training - Validation split\n",
        "This code splits the training set into training and validation sets"
      ],
      "metadata": {
        "id": "vYgOkpcjl5pD"
      }
    },
    {
      "cell_type": "code",
      "source": [
        "def train_val_split(sentences, labels, training_split):\n",
        "  train_size = int(len(sentences) * training_split)\n",
        "\n",
        "  train_sentences = sentences[0:train_size]\n",
        "  train_labels = labels[0:train_size]\n",
        "\n",
        "  val_sentences = sentences[train_size:]\n",
        "  val_labels = labels[train_size:]\n",
        "\n",
        "  return train_sentences, train_labels, val_sentences, val_labels"
      ],
      "metadata": {
        "id": "Z8QKn0ZYl3OC"
      },
      "execution_count": 69,
      "outputs": []
    },
    {
      "cell_type": "code",
      "source": [
        "# Testing the function\n",
        "train_sentences, train_labels, val_sentences, val_labels = train_val_split(sentences, labels, TRAINING_SPLIT)\n",
        "\n",
        "print(f\"There are {len(train_sentences)} sentences for training.\\n\")\n",
        "print(f\"There are {len(train_labels)} labels for training.\\n\")\n",
        "print(f\"There are {len(val_sentences)} sentences for validation.\\n\")\n",
        "print(f\"There are {len(val_labels)} labels for validation.\")"
      ],
      "metadata": {
        "colab": {
          "base_uri": "https://localhost:8080/"
        },
        "id": "LjEXzyiAmt6Z",
        "outputId": "ffc6ea1a-646a-4dea-cad8-2c8f572646e5"
      },
      "execution_count": 70,
      "outputs": [
        {
          "output_type": "stream",
          "name": "stdout",
          "text": [
            "There are 1192 sentences for training.\n",
            "\n",
            "There are 1192 labels for training.\n",
            "\n",
            "There are 298 sentences for validation.\n",
            "\n",
            "There are 298 labels for validation.\n"
          ]
        }
      ]
    },
    {
      "cell_type": "markdown",
      "source": [
        "##Tokenization - Sequences and Padding\n",
        "This code returns a Tokenizer that has been fitted to the training sentences."
      ],
      "metadata": {
        "id": "FSRZ3ft0m8ah"
      }
    },
    {
      "cell_type": "code",
      "source": [
        "def fit_tokenizer(train_sentences, num_words, oov_token):\n",
        "  \"\"\"\n",
        "  Args:\n",
        "        train_sentences (list of string): lower-cased sentences without stopwords to be used for training\n",
        "        num_words (int) - number of words to keep when tokenizing\n",
        "        oov_token (string) - symbol for the out-of-vocabulary token\n",
        "\n",
        "    Returns:\n",
        "        tokenizer (object): an instance of the Tokenizer class containing the word-index dictionary\n",
        "  \"\"\"\n",
        "\n",
        "  #instantiating the Tokenizer class\n",
        "  tokenizer = Tokenizer(num_words = num_words, oov_token = oov_token)\n",
        "\n",
        "  #fitting the tokenizer to the training sentences\n",
        "  tokenizer.fit_on_texts(train_sentences)\n",
        "\n",
        "  return tokenizer"
      ],
      "metadata": {
        "id": "GTD5HO0TnB-u"
      },
      "execution_count": 71,
      "outputs": []
    },
    {
      "cell_type": "markdown",
      "source": [
        "This code converts each text data point into its padded sequence representation."
      ],
      "metadata": {
        "id": "gFIQCUIVnrkg"
      }
    },
    {
      "cell_type": "code",
      "source": [
        "def seq_and_pad(sentences, tokenizer, padding, maxlen):\n",
        "\n",
        "  sequences = tokenizer.texts_to_sequences(sentences)\n",
        "  padded_sequences = pad_sequences(sequences, maxlen = maxlen, padding = 'post')\n",
        "\n",
        "  return padded_sequences"
      ],
      "metadata": {
        "id": "2hfkaGktnvn8"
      },
      "execution_count": 72,
      "outputs": []
    },
    {
      "cell_type": "code",
      "source": [
        "# Test your function\n",
        "train_padded_seq = seq_and_pad(train_sentences, tokenizer, PADDING, MAXLEN)\n",
        "val_padded_seq = seq_and_pad(val_sentences, tokenizer, PADDING, MAXLEN)\n",
        "\n",
        "print(f\"Padded training sequences have shape: {train_padded_seq.shape}\\n\")\n",
        "print(f\"Padded validation sequences have shape: {val_padded_seq.shape}\")"
      ],
      "metadata": {
        "colab": {
          "base_uri": "https://localhost:8080/"
        },
        "id": "YDauaYiJn7hQ",
        "outputId": "a9cffe11-352b-48c0-8ea5-d4ed2256acb1"
      },
      "execution_count": 73,
      "outputs": [
        {
          "output_type": "stream",
          "name": "stdout",
          "text": [
            "Padded training sequences have shape: (1192, 120)\n",
            "\n",
            "Padded validation sequences have shape: (298, 120)\n"
          ]
        }
      ]
    },
    {
      "cell_type": "markdown",
      "source": [
        "This code tokenizes the labels."
      ],
      "metadata": {
        "id": "oMZq4RPSoubD"
      }
    },
    {
      "cell_type": "code",
      "source": [
        "def tokenize_labels(all_labels, split_labels):\n",
        "  \"\"\"\n",
        "    Args:\n",
        "        all_labels (list of string): labels to generate the word-index from\n",
        "        split_labels (list of string): labels to tokenize\n",
        "    Returns:\n",
        "        label_seq_np (array of int): tokenized labels\n",
        "  \"\"\"\n",
        "\n",
        "  label_tokenizer = Tokenizer()\n",
        "  label_tokenizer.fit_on_texts(all_labels)\n",
        "  label_seq = label_tokenizer.texts_to_sequences(split_labels)\n",
        "  label_seq_padded = pad_sequences(label_seq, padding='post')\n",
        "\n",
        "  # Converting sequences to a numpy array (for neural networks)\n",
        "  # Subtracting 1 to ensure indices start from 0\n",
        "  label_seq_np = np.array(label_seq_padded) -1\n",
        "\n",
        "  return label_seq_np"
      ],
      "metadata": {
        "id": "Z7QMtsBAovj0"
      },
      "execution_count": 74,
      "outputs": []
    },
    {
      "cell_type": "code",
      "source": [
        "train_label_seq = tokenize_labels(labels, train_labels)\n",
        "val_label_seq = tokenize_labels(labels, val_labels)\n",
        "\n",
        "print(f\"First 5 labels of the training set should look like this:\\n{train_label_seq[:5]}\\n\")\n",
        "print(f\"First 5 labels of the validation set should look like this:\\n{val_label_seq[:5]}\\n\")\n",
        "print(f\"Tokenized labels of the training set have shape: {train_label_seq.shape}\\n\")\n",
        "print(f\"Tokenized labels of the validation set have shape: {val_label_seq.shape}\\n\")"
      ],
      "metadata": {
        "colab": {
          "base_uri": "https://localhost:8080/"
        },
        "id": "iJZ4PMc4rYPr",
        "outputId": "0ba285e8-23ea-482f-96ba-2b03734d4316"
      },
      "execution_count": 75,
      "outputs": [
        {
          "output_type": "stream",
          "name": "stdout",
          "text": [
            "First 5 labels of the training set should look like this:\n",
            "[[1]\n",
            " [1]\n",
            " [1]\n",
            " [4]\n",
            " [1]]\n",
            "\n",
            "First 5 labels of the validation set should look like this:\n",
            "[[3]\n",
            " [3]\n",
            " [2]\n",
            " [1]\n",
            " [4]]\n",
            "\n",
            "Tokenized labels of the training set have shape: (1192, 1)\n",
            "\n",
            "Tokenized labels of the validation set have shape: (298, 1)\n",
            "\n"
          ]
        }
      ]
    },
    {
      "cell_type": "markdown",
      "source": [
        "##Creating the model\n",
        "This code builds a model that classify each text as being part of a certain category."
      ],
      "metadata": {
        "id": "RjqaJ937tmqN"
      }
    },
    {
      "cell_type": "code",
      "source": [
        "def create_model(num_words, embedding_dim, maxlen):\n",
        "  \"\"\"\n",
        "    Args:\n",
        "          num_words (int): size of the vocabulary for the Embedding layer input\n",
        "          embedding_dim (int): dimensionality of the Embedding layer output\n",
        "          maxlen (int): length of the input sequences\n",
        "  \"\"\"\n",
        "\n",
        "  #Ensuring reproducibility\n",
        "  tf.random.set_seed(123)\n",
        "\n",
        "  #Creating the model\n",
        "  model = tf.keras.Sequential([\n",
        "      tf.keras.layers.Embedding(num_words, output_dim = embedding_dim, input_length = maxlen),\n",
        "      tf.keras.layers.GlobalAveragePooling1D(),\n",
        "      tf.keras.layers.Dense(6, activation = 'relu'),\n",
        "      tf.keras.layers.Dense(5, activation = 'softmax')\n",
        "  ])\n",
        "\n",
        "  #Compiling the model\n",
        "  model.compile(loss='sparse_categorical_crossentropy',\n",
        "                optimizer='adam',\n",
        "                metrics=['accuracy'])\n",
        "\n",
        "  return model"
      ],
      "metadata": {
        "id": "k0z5-fA8tvMA"
      },
      "execution_count": 76,
      "outputs": []
    },
    {
      "cell_type": "code",
      "source": [
        "model = create_model(NUM_WORDS, EMBEDDING_DIM, MAXLEN)\n",
        "\n",
        "history = model.fit(\n",
        "  train_padded_seq,\n",
        "  train_label_seq,\n",
        "  epochs=30,\n",
        "  validation_data=(val_padded_seq, val_label_seq)\n",
        ")"
      ],
      "metadata": {
        "colab": {
          "base_uri": "https://localhost:8080/"
        },
        "id": "FHKrk39juamY",
        "outputId": "e641f02a-69b4-447c-de31-c11e8312cb71"
      },
      "execution_count": 77,
      "outputs": [
        {
          "output_type": "stream",
          "name": "stdout",
          "text": [
            "Epoch 1/30\n",
            "38/38 [==============================] - 1s 9ms/step - loss: 1.6016 - accuracy: 0.2634 - val_loss: 1.5934 - val_accuracy: 0.3255\n",
            "Epoch 2/30\n",
            "38/38 [==============================] - 0s 3ms/step - loss: 1.5814 - accuracy: 0.4169 - val_loss: 1.5722 - val_accuracy: 0.3557\n",
            "Epoch 3/30\n",
            "38/38 [==============================] - 0s 4ms/step - loss: 1.5530 - accuracy: 0.3993 - val_loss: 1.5422 - val_accuracy: 0.3826\n",
            "Epoch 4/30\n",
            "38/38 [==============================] - 0s 3ms/step - loss: 1.5130 - accuracy: 0.4841 - val_loss: 1.5012 - val_accuracy: 0.4530\n",
            "Epoch 5/30\n",
            "38/38 [==============================] - 0s 3ms/step - loss: 1.4598 - accuracy: 0.5310 - val_loss: 1.4470 - val_accuracy: 0.5336\n",
            "Epoch 6/30\n",
            "38/38 [==============================] - 0s 4ms/step - loss: 1.3919 - accuracy: 0.5579 - val_loss: 1.3815 - val_accuracy: 0.5638\n",
            "Epoch 7/30\n",
            "38/38 [==============================] - 0s 4ms/step - loss: 1.3100 - accuracy: 0.6065 - val_loss: 1.3041 - val_accuracy: 0.5772\n",
            "Epoch 8/30\n",
            "38/38 [==============================] - 0s 4ms/step - loss: 1.2182 - accuracy: 0.6267 - val_loss: 1.2190 - val_accuracy: 0.5805\n",
            "Epoch 9/30\n",
            "38/38 [==============================] - 0s 3ms/step - loss: 1.1212 - accuracy: 0.6334 - val_loss: 1.1308 - val_accuracy: 0.6074\n",
            "Epoch 10/30\n",
            "38/38 [==============================] - 0s 3ms/step - loss: 1.0245 - accuracy: 0.6770 - val_loss: 1.0438 - val_accuracy: 0.6544\n",
            "Epoch 11/30\n",
            "38/38 [==============================] - 0s 6ms/step - loss: 0.9328 - accuracy: 0.7248 - val_loss: 0.9646 - val_accuracy: 0.7047\n",
            "Epoch 12/30\n",
            "38/38 [==============================] - 0s 5ms/step - loss: 0.8491 - accuracy: 0.7567 - val_loss: 0.8891 - val_accuracy: 0.7584\n",
            "Epoch 13/30\n",
            "38/38 [==============================] - 0s 5ms/step - loss: 0.7731 - accuracy: 0.8280 - val_loss: 0.8201 - val_accuracy: 0.8255\n",
            "Epoch 14/30\n",
            "38/38 [==============================] - 0s 6ms/step - loss: 0.7049 - accuracy: 0.8532 - val_loss: 0.7600 - val_accuracy: 0.8490\n",
            "Epoch 15/30\n",
            "38/38 [==============================] - 0s 5ms/step - loss: 0.6439 - accuracy: 0.8926 - val_loss: 0.7008 - val_accuracy: 0.8893\n",
            "Epoch 16/30\n",
            "38/38 [==============================] - 0s 5ms/step - loss: 0.5879 - accuracy: 0.9069 - val_loss: 0.6527 - val_accuracy: 0.8960\n",
            "Epoch 17/30\n",
            "38/38 [==============================] - 0s 5ms/step - loss: 0.5378 - accuracy: 0.9253 - val_loss: 0.6052 - val_accuracy: 0.8993\n",
            "Epoch 18/30\n",
            "38/38 [==============================] - 0s 5ms/step - loss: 0.4919 - accuracy: 0.9421 - val_loss: 0.5632 - val_accuracy: 0.9027\n",
            "Epoch 19/30\n",
            "38/38 [==============================] - 0s 6ms/step - loss: 0.4504 - accuracy: 0.9446 - val_loss: 0.5271 - val_accuracy: 0.9060\n",
            "Epoch 20/30\n",
            "38/38 [==============================] - 0s 5ms/step - loss: 0.4128 - accuracy: 0.9505 - val_loss: 0.4930 - val_accuracy: 0.9094\n",
            "Epoch 21/30\n",
            "38/38 [==============================] - 0s 6ms/step - loss: 0.3796 - accuracy: 0.9555 - val_loss: 0.4608 - val_accuracy: 0.9161\n",
            "Epoch 22/30\n",
            "38/38 [==============================] - 0s 6ms/step - loss: 0.3476 - accuracy: 0.9622 - val_loss: 0.4326 - val_accuracy: 0.9195\n",
            "Epoch 23/30\n",
            "38/38 [==============================] - 0s 6ms/step - loss: 0.3201 - accuracy: 0.9673 - val_loss: 0.4096 - val_accuracy: 0.9128\n",
            "Epoch 24/30\n",
            "38/38 [==============================] - 0s 5ms/step - loss: 0.2947 - accuracy: 0.9706 - val_loss: 0.3864 - val_accuracy: 0.9228\n",
            "Epoch 25/30\n",
            "38/38 [==============================] - 0s 7ms/step - loss: 0.2715 - accuracy: 0.9698 - val_loss: 0.3643 - val_accuracy: 0.9362\n",
            "Epoch 26/30\n",
            "38/38 [==============================] - 0s 3ms/step - loss: 0.2503 - accuracy: 0.9732 - val_loss: 0.3464 - val_accuracy: 0.9396\n",
            "Epoch 27/30\n",
            "38/38 [==============================] - 0s 3ms/step - loss: 0.2312 - accuracy: 0.9773 - val_loss: 0.3305 - val_accuracy: 0.9430\n",
            "Epoch 28/30\n",
            "38/38 [==============================] - 0s 3ms/step - loss: 0.2145 - accuracy: 0.9799 - val_loss: 0.3167 - val_accuracy: 0.9430\n",
            "Epoch 29/30\n",
            "38/38 [==============================] - 0s 4ms/step - loss: 0.1989 - accuracy: 0.9815 - val_loss: 0.3017 - val_accuracy: 0.9430\n",
            "Epoch 30/30\n",
            "38/38 [==============================] - 0s 3ms/step - loss: 0.1852 - accuracy: 0.9824 - val_loss: 0.2901 - val_accuracy: 0.9430\n"
          ]
        }
      ]
    },
    {
      "cell_type": "code",
      "source": [
        "def plot_graphs(history, metric):\n",
        "    plt.plot(history.history[metric])\n",
        "    plt.plot(history.history[f'val_{metric}'])\n",
        "    plt.xlabel(\"Epochs\")\n",
        "    plt.ylabel(metric)\n",
        "    plt.legend([metric, f'val_{metric}'])\n",
        "    plt.show()\n",
        "\n",
        "plot_graphs(history, \"accuracy\")\n",
        "plot_graphs(history, \"loss\")"
      ],
      "metadata": {
        "colab": {
          "base_uri": "https://localhost:8080/",
          "height": 881
        },
        "id": "-NC78jbeukFp",
        "outputId": "0a3dbe6b-2fd9-4fc8-fb59-9623b81a6624"
      },
      "execution_count": 78,
      "outputs": [
        {
          "output_type": "display_data",
          "data": {
            "text/plain": [
              "<Figure size 640x480 with 1 Axes>"
            ],
            "image/png": "[encoded data removed]"
          },
          "metadata": {}
        },
        {
          "output_type": "display_data",
          "data": {
            "text/plain": [
              "<Figure size 640x480 with 1 Axes>"
            ],
            "image/png": "[encoded data removed]"
          },
          "metadata": {}
        }
      ]
    },
    {
      "cell_type": "markdown",
      "source": [
        "##Visualizing 3D Vectors\n",
        "\n",
        "This will be used in [Tensorflow's Embedding Projector](https://projector.tensorflow.org/)."
      ],
      "metadata": {
        "id": "HBqso0N_xbQ9"
      }
    },
    {
      "cell_type": "code",
      "source": [
        "# Reverse word index\n",
        "reverse_word_index = dict([(value, key) for (key, value) in word_index.items()])\n",
        "\n",
        "# Save the embedding layer\n",
        "e = model.layers[0]\n",
        "\n",
        "# Save the weights of the embedding layer\n",
        "weights = e.get_weights()[0]\n",
        "print(f\"Weights of embedding layer have shape: {weights.shape}\")"
      ],
      "metadata": {
        "colab": {
          "base_uri": "https://localhost:8080/"
        },
        "id": "nyFMJgRKvy0r",
        "outputId": "fc09574a-2500-44db-f897-cebccb01575d"
      },
      "execution_count": 79,
      "outputs": [
        {
          "output_type": "stream",
          "name": "stdout",
          "text": [
            "Weights of embedding layer have shape: (1000, 16)\n"
          ]
        }
      ]
    },
    {
      "cell_type": "markdown",
      "source": [
        "This code generates the `vecs.tsv` and `meta.tsv` files that will be uploaded to the embedding projector."
      ],
      "metadata": {
        "id": "KoH45NpfxxKx"
      }
    },
    {
      "cell_type": "code",
      "source": [
        "# Generate files for embedding visualization\n",
        "out_v = io.open('vecs.tsv', 'w', encoding='utf-8')\n",
        "out_m = io.open('meta.tsv', 'w', encoding='utf-8')\n",
        "for word_num in range(1, NUM_WORDS):\n",
        "    word = reverse_word_index[word_num]\n",
        "    embeddings = weights[word_num]\n",
        "    out_m.write(word + \"\\n\")\n",
        "    out_v.write('\\t'.join([str(x) for x in embeddings]) + \"\\n\")\n",
        "out_v.close()\n",
        "out_m.close()"
      ],
      "metadata": {
        "id": "dkWFgkr6v1Z_"
      },
      "execution_count": 80,
      "outputs": []
    }
  ]
}