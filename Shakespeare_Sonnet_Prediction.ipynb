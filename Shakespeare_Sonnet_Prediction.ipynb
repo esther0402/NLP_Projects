{
  "nbformat": 4,
  "nbformat_minor": 0,
  "metadata": {
    "colab": {
      "provenance": [],
      "authorship_tag": "ABX9TyP7ECvpTalzNCTkpiFG3sQ5",
      "include_colab_link": true
    },
    "kernelspec": {
      "name": "python3",
      "display_name": "Python 3"
    },
    "language_info": {
      "name": "python"
    }
  },
  "cells": [
    {
      "cell_type": "markdown",
      "metadata": {
        "id": "view-in-github",
        "colab_type": "text"
      },
      "source": [
        "<a href=\"https://colab.research.google.com/github/esther0402/NLP_Projects/blob/main/Shakespeare_Sonnet_Prediction.ipynb\" target=\"_parent\"><img src=\"https://colab.research.google.com/assets/colab-badge.svg\" alt=\"Open In Colab\"/></a>"
      ]
    },
    {
      "cell_type": "markdown",
      "source": [
        "This project aims to build a model that predict the next word in a text sequence, built on a corpus of Shakespeare's sonnets."
      ],
      "metadata": {
        "id": "w7mQeYh--Z1A"
      }
    },
    {
      "cell_type": "markdown",
      "source": [
        "##Getting the data"
      ],
      "metadata": {
        "id": "Z3fh2kBK_Gbc"
      }
    },
    {
      "cell_type": "code",
      "execution_count": 40,
      "metadata": {
        "id": "b_KOcbLM-GxF"
      },
      "outputs": [],
      "source": [
        "import numpy as np\n",
        "import matplotlib.pyplot as plt\n",
        "import tensorflow as tf\n",
        "from tensorflow.keras.models import Sequential\n",
        "from tensorflow.keras.utils import to_categorical\n",
        "from tensorflow.keras.preprocessing.text import Tokenizer\n",
        "from tensorflow.keras.preprocessing.sequence import pad_sequences\n",
        "from tensorflow.keras.layers import Embedding, LSTM, Dense, Bidirectional"
      ]
    },
    {
      "cell_type": "code",
      "source": [
        "# sonnets.txt\n",
        "!gdown --id 108jAePKK4R3BVYBbYJZ32JWUwxeMg20K"
      ],
      "metadata": {
        "colab": {
          "base_uri": "https://localhost:8080/"
        },
        "id": "8zBl09jY-s-0",
        "outputId": "53676883-8201-4963-99cc-026f2f7d6fe2"
      },
      "execution_count": 22,
      "outputs": [
        {
          "output_type": "stream",
          "name": "stdout",
          "text": [
            "/usr/local/lib/python3.10/dist-packages/gdown/cli.py:121: FutureWarning: Option `--id` was deprecated in version 4.3.1 and will be removed in 5.0. You don't need to pass it anymore to use a file ID.\n",
            "  warnings.warn(\n",
            "Downloading...\n",
            "From: https://drive.google.com/uc?id=108jAePKK4R3BVYBbYJZ32JWUwxeMg20K\n",
            "To: /content/sonnets.txt\n",
            "100% 93.6k/93.6k [00:00<00:00, 54.9MB/s]\n"
          ]
        }
      ]
    },
    {
      "cell_type": "code",
      "source": [
        "# Define path for file with sonnets\n",
        "SONNETS_FILE = './sonnets.txt'\n",
        "\n",
        "# Read the data\n",
        "with open('./sonnets.txt') as f:\n",
        "    data = f.read()\n",
        "\n",
        "# Convert to lower case and save as a list\n",
        "corpus = data.lower().split(\"\\n\")\n",
        "\n",
        "print(f\"There are {len(corpus)} lines of sonnets\\n\")\n",
        "print(f\"The first 5 lines look like this:\\n\")\n",
        "for i in range(5):\n",
        "  print(corpus[i])"
      ],
      "metadata": {
        "colab": {
          "base_uri": "https://localhost:8080/"
        },
        "id": "KWBIMg2X-z4I",
        "outputId": "9d110f75-0c38-4825-e457-dcf2cc477bb6"
      },
      "execution_count": 23,
      "outputs": [
        {
          "output_type": "stream",
          "name": "stdout",
          "text": [
            "There are 2159 lines of sonnets\n",
            "\n",
            "The first 5 lines look like this:\n",
            "\n",
            "from fairest creatures we desire increase,\n",
            "that thereby beauty's rose might never die,\n",
            "but as the riper should by time decease,\n",
            "his tender heir might bear his memory:\n",
            "but thou, contracted to thine own bright eyes,\n"
          ]
        }
      ]
    },
    {
      "cell_type": "markdown",
      "source": [
        "##Tokenizing the text"
      ],
      "metadata": {
        "id": "OvYdsxUd_Jvu"
      }
    },
    {
      "cell_type": "code",
      "source": [
        "tokenizer = Tokenizer()\n",
        "tokenizer.fit_on_texts(corpus)\n",
        "total_words = len(tokenizer.word_index) + 1"
      ],
      "metadata": {
        "id": "KscAR0ei_Mqp"
      },
      "execution_count": 24,
      "outputs": []
    },
    {
      "cell_type": "markdown",
      "source": [
        "This code receives the fitted tokenizer and the corpus (which is a list of strings) and returns a list containing the `n_gram` sequences for each line in the corpus."
      ],
      "metadata": {
        "id": "ljaVksvG_maR"
      }
    },
    {
      "cell_type": "code",
      "source": [
        "def n_gram_seqs(corpus, tokenizer):\n",
        "  input_seq = []\n",
        "\n",
        "  for line in corpus:\n",
        "    #tokenize the current line\n",
        "    token_list_line = tokenizer.texts_to_sequences([line])[0]\n",
        "\n",
        "    for i in range(1, len(token_list_line)):\n",
        "      #generate subphrases\n",
        "      n_gram_seq = token_list_line[:i+1]\n",
        "      input_seq.append(n_gram_seq)\n",
        "\n",
        "  return input_seq"
      ],
      "metadata": {
        "id": "qyCbIfL1_vda"
      },
      "execution_count": 25,
      "outputs": []
    },
    {
      "cell_type": "code",
      "source": [
        "#Testing the function with one example\n",
        "\n",
        "first_example_sequence = n_gram_seqs([corpus[0]], tokenizer)\n",
        "\n",
        "print(\"n_gram sequences for first example look like this:\\n\")\n",
        "first_example_sequence"
      ],
      "metadata": {
        "colab": {
          "base_uri": "https://localhost:8080/"
        },
        "id": "FrZorpAwAHFe",
        "outputId": "60255ae6-f33e-4acb-b3b2-70fc01ff762a"
      },
      "execution_count": 26,
      "outputs": [
        {
          "output_type": "stream",
          "name": "stdout",
          "text": [
            "n_gram sequences for first example look like this:\n",
            "\n"
          ]
        },
        {
          "output_type": "execute_result",
          "data": {
            "text/plain": [
              "[[34, 417],\n",
              " [34, 417, 877],\n",
              " [34, 417, 877, 166],\n",
              " [34, 417, 877, 166, 213],\n",
              " [34, 417, 877, 166, 213, 517]]"
            ]
          },
          "metadata": {},
          "execution_count": 26
        }
      ]
    },
    {
      "cell_type": "markdown",
      "source": [
        "This code then applies the `n_gram_seqs` transformation to the whole corpus and saves the maximum sequence length to use it later."
      ],
      "metadata": {
        "id": "PVwy4_j0AZzI"
      }
    },
    {
      "cell_type": "code",
      "source": [
        "input_sequences = n_gram_seqs(corpus, tokenizer)\n",
        "print(f\"n_grams of input_sequences have length: {len(input_sequences)}\")\n",
        "\n",
        "max_sequence_len = max([len(x) for x in input_sequences])\n",
        "print(f\"maximum length of sequences is: {max_sequence_len}\")"
      ],
      "metadata": {
        "colab": {
          "base_uri": "https://localhost:8080/"
        },
        "id": "ePN68cQ7AUNv",
        "outputId": "c6dd2b94-7ca3-436f-b679-7fd4cfe8d3ea"
      },
      "execution_count": 27,
      "outputs": [
        {
          "output_type": "stream",
          "name": "stdout",
          "text": [
            "n_grams of input_sequences have length: 15462\n",
            "maximum length of sequences is: 11\n"
          ]
        }
      ]
    },
    {
      "cell_type": "markdown",
      "source": [
        "##Adding padding to the sequences"
      ],
      "metadata": {
        "id": "-Es0m6IABTSD"
      }
    },
    {
      "cell_type": "markdown",
      "source": [
        "This code pads tokenized sequences to the same length."
      ],
      "metadata": {
        "id": "-Hy3VoYaBjpC"
      }
    },
    {
      "cell_type": "code",
      "source": [
        "def pad_seqs(input_sequences, maxlen):\n",
        "  padded_sequences = pad_sequences(\n",
        "      input_sequences,\n",
        "      maxlen = maxlen\n",
        "      )\n",
        "\n",
        "  return padded_sequences\n"
      ],
      "metadata": {
        "id": "XH_aqkeFBU3W"
      },
      "execution_count": 28,
      "outputs": []
    },
    {
      "cell_type": "code",
      "source": [
        "#testing the padding function\n",
        "first_padded_seq = pad_seqs(first_example_sequence, max([len(x) for x in first_example_sequence]))\n",
        "first_padded_seq"
      ],
      "metadata": {
        "colab": {
          "base_uri": "https://localhost:8080/"
        },
        "id": "yVphzF1FBh-j",
        "outputId": "874cd0b1-d267-4bf0-de97-b0307e3a2aea"
      },
      "execution_count": 29,
      "outputs": [
        {
          "output_type": "execute_result",
          "data": {
            "text/plain": [
              "array([[  0,   0,   0,   0,  34, 417],\n",
              "       [  0,   0,   0,  34, 417, 877],\n",
              "       [  0,   0,  34, 417, 877, 166],\n",
              "       [  0,  34, 417, 877, 166, 213],\n",
              "       [ 34, 417, 877, 166, 213, 517]], dtype=int32)"
            ]
          },
          "metadata": {},
          "execution_count": 29
        }
      ]
    },
    {
      "cell_type": "code",
      "source": [
        "#padding the whole corpus\n",
        "input_sequences = pad_seqs(input_sequences, max_sequence_len)\n",
        "print(f\"padded corpus has shape: {input_sequences.shape}\")"
      ],
      "metadata": {
        "colab": {
          "base_uri": "https://localhost:8080/"
        },
        "id": "wM_1YwWFBskb",
        "outputId": "81ec8522-1792-40e7-e2f0-f85e00ce8b5b"
      },
      "execution_count": 30,
      "outputs": [
        {
          "output_type": "stream",
          "name": "stdout",
          "text": [
            "padded corpus has shape: (15462, 11)\n"
          ]
        }
      ]
    },
    {
      "cell_type": "markdown",
      "source": [
        "There iare 15,462 sequences and each sequence has a length of 11."
      ],
      "metadata": {
        "id": "BoEmBUvaK94V"
      }
    },
    {
      "cell_type": "markdown",
      "source": [
        "##Splitting the data into features and labels"
      ],
      "metadata": {
        "id": "J9df3TOoBvqx"
      }
    },
    {
      "cell_type": "markdown",
      "source": [
        "Before feeding the data into the neural network the data will be split into features (input data)and labels (output).\n",
        "* The features will be the padded n_gram sequences with the last word removed from them\n",
        "* The labels will be the removed word\n",
        "\n",
        "This code expects the padded n_gram sequences as input and should return a tuple containing the features and the one hot encoded labels."
      ],
      "metadata": {
        "id": "XOKrhjeXC_no"
      }
    },
    {
      "cell_type": "code",
      "source": [
        "from tensorflow.keras.utils import to_categorical\n",
        "\n",
        "def features_and_labels(padded_sequences, total_words):\n",
        "  features = []\n",
        "  labels = []\n",
        "\n",
        "  for sequence in padded_sequences:\n",
        "      # Extract the last word as the label\n",
        "      label = sequence[-1]\n",
        "      # Remove the last word to create the feature\n",
        "      feature = sequence[:-1]\n",
        "\n",
        "      features.append(feature)\n",
        "      labels.append(label)\n",
        "\n",
        "  # One-hot encode the labels\n",
        "  one_hot_labels = to_categorical(labels, num_classes=total_words)\n",
        "\n",
        "  return features, one_hot_labels\n"
      ],
      "metadata": {
        "id": "p79JLDMEBx3e"
      },
      "execution_count": 34,
      "outputs": []
    },
    {
      "cell_type": "code",
      "source": [
        "#Testing the function\n",
        "first_features, first_labels = features_and_labels(first_padded_seq, total_words)\n",
        "\n",
        "print(f\"labels have shape: {first_labels.shape}\")\n",
        "print(\"\\nfeatures look like this:\\n\")\n",
        "first_features"
      ],
      "metadata": {
        "colab": {
          "base_uri": "https://localhost:8080/"
        },
        "id": "BNEqEI9MKtQ6",
        "outputId": "288d1052-03d9-4e5b-83b8-c96874cf17b3"
      },
      "execution_count": 32,
      "outputs": [
        {
          "output_type": "stream",
          "name": "stdout",
          "text": [
            "labels have shape: (5, 3211)\n",
            "\n",
            "features look like this:\n",
            "\n"
          ]
        },
        {
          "output_type": "execute_result",
          "data": {
            "text/plain": [
              "[array([ 0,  0,  0,  0, 34], dtype=int32),\n",
              " array([  0,   0,   0,  34, 417], dtype=int32),\n",
              " array([  0,   0,  34, 417, 877], dtype=int32),\n",
              " array([  0,  34, 417, 877, 166], dtype=int32),\n",
              " array([ 34, 417, 877, 166, 213], dtype=int32)]"
            ]
          },
          "metadata": {},
          "execution_count": 32
        }
      ]
    },
    {
      "cell_type": "code",
      "source": [
        "# Splitting the whole corpus\n",
        "features, labels = features_and_labels(input_sequences, total_words)\n",
        "\n",
        "# Converting to np arrays (for NNs)\n",
        "features = np.array(features)\n",
        "labels = np.array(labels)\n",
        "\n",
        "print(f\"features have shape: {features.shape}\")\n",
        "print(f\"labels have shape: {labels.shape}\")"
      ],
      "metadata": {
        "colab": {
          "base_uri": "https://localhost:8080/"
        },
        "id": "3J-K3SJoRPvU",
        "outputId": "afde1236-4adf-4d23-9cb8-707a0a80c7d2"
      },
      "execution_count": 37,
      "outputs": [
        {
          "output_type": "stream",
          "name": "stdout",
          "text": [
            "features have shape: (15462, 10)\n",
            "labels have shape: (15462, 3211)\n"
          ]
        }
      ]
    },
    {
      "cell_type": "markdown",
      "source": [
        "##Creating the Model"
      ],
      "metadata": {
        "id": "UUPSwG1jSmib"
      }
    },
    {
      "cell_type": "code",
      "source": [
        "from keras.models import Sequential\n",
        "from tensorflow.keras.layers import Embedding, LSTM, Dense, Bidirectional\n",
        "\n",
        "def create_model(total_words, max_sequence_len):\n",
        "    \"\"\"\n",
        "    Args:\n",
        "        total_words (int): size of the vocabulary for the Embedding layer input\n",
        "        max_sequence_len (int): length of the input sequences\n",
        "\n",
        "    Returns:\n",
        "        model (tf.keras Model): the text generator model\n",
        "    \"\"\"\n",
        "    model = Sequential()\n",
        "    model.add(Embedding(total_words, 200, input_length=max_sequence_len-1)), #100\n",
        "    model.add(Bidirectional(LSTM(250))), #150\n",
        "    model.add(Dense(total_words, activation = 'softmax'))\n",
        "\n",
        "    # Compile the model\n",
        "    model.compile(loss='categorical_crossentropy',\n",
        "                  optimizer=tf.keras.optimizers.Adam(learning_rate = 0.001),#0.001\n",
        "                  metrics=['accuracy'])\n",
        "\n",
        "    return model"
      ],
      "metadata": {
        "id": "RRoJtFeDSnmt"
      },
      "execution_count": 41,
      "outputs": []
    },
    {
      "cell_type": "markdown",
      "source": [
        "Training the model:"
      ],
      "metadata": {
        "id": "z5nLbUR7S0Xy"
      }
    },
    {
      "cell_type": "code",
      "source": [
        "# Get the untrained model\n",
        "model = create_model(total_words, max_sequence_len)\n",
        "\n",
        "# Train the model\n",
        "history = model.fit(features, labels, epochs=50, verbose=1)"
      ],
      "metadata": {
        "colab": {
          "base_uri": "https://localhost:8080/"
        },
        "id": "-XiusjnFS1QX",
        "outputId": "9502180c-f7bb-4273-8ae2-51a35eac9c51"
      },
      "execution_count": 42,
      "outputs": [
        {
          "output_type": "stream",
          "name": "stdout",
          "text": [
            "Epoch 1/50\n",
            "484/484 [==============================] - 67s 126ms/step - loss: 6.8491 - accuracy: 0.0231\n",
            "Epoch 2/50\n",
            "484/484 [==============================] - 62s 128ms/step - loss: 6.3690 - accuracy: 0.0368\n",
            "Epoch 3/50\n",
            "484/484 [==============================] - 62s 128ms/step - loss: 6.0501 - accuracy: 0.0488\n",
            "Epoch 4/50\n",
            "484/484 [==============================] - 60s 125ms/step - loss: 5.6845 - accuracy: 0.0649\n",
            "Epoch 5/50\n",
            "484/484 [==============================] - 61s 125ms/step - loss: 5.2292 - accuracy: 0.0825\n",
            "Epoch 6/50\n",
            "484/484 [==============================] - 60s 124ms/step - loss: 4.6712 - accuracy: 0.1160\n",
            "Epoch 7/50\n",
            "484/484 [==============================] - 59s 123ms/step - loss: 4.0392 - accuracy: 0.1832\n",
            "Epoch 8/50\n",
            "484/484 [==============================] - 59s 123ms/step - loss: 3.3837 - accuracy: 0.2936\n",
            "Epoch 9/50\n",
            "484/484 [==============================] - 60s 124ms/step - loss: 2.7850 - accuracy: 0.4075\n",
            "Epoch 10/50\n",
            "484/484 [==============================] - 60s 124ms/step - loss: 2.2824 - accuracy: 0.5129\n",
            "Epoch 11/50\n",
            "484/484 [==============================] - 60s 123ms/step - loss: 1.8768 - accuracy: 0.6100\n",
            "Epoch 12/50\n",
            "484/484 [==============================] - 60s 124ms/step - loss: 1.5557 - accuracy: 0.6836\n",
            "Epoch 13/50\n",
            "484/484 [==============================] - 60s 125ms/step - loss: 1.3026 - accuracy: 0.7381\n",
            "Epoch 14/50\n",
            "484/484 [==============================] - 59s 122ms/step - loss: 1.1105 - accuracy: 0.7808\n",
            "Epoch 15/50\n",
            "484/484 [==============================] - 59s 122ms/step - loss: 0.9712 - accuracy: 0.8046\n",
            "Epoch 16/50\n",
            "484/484 [==============================] - 59s 122ms/step - loss: 0.8699 - accuracy: 0.8207\n",
            "Epoch 17/50\n",
            "484/484 [==============================] - 63s 130ms/step - loss: 0.8029 - accuracy: 0.8293\n",
            "Epoch 18/50\n",
            "484/484 [==============================] - 60s 124ms/step - loss: 0.7494 - accuracy: 0.8354\n",
            "Epoch 19/50\n",
            "484/484 [==============================] - 70s 144ms/step - loss: 0.7118 - accuracy: 0.8416\n",
            "Epoch 20/50\n",
            "484/484 [==============================] - 74s 154ms/step - loss: 0.6825 - accuracy: 0.8442\n",
            "Epoch 21/50\n",
            "484/484 [==============================] - 73s 151ms/step - loss: 0.6622 - accuracy: 0.8465\n",
            "Epoch 22/50\n",
            "484/484 [==============================] - 76s 157ms/step - loss: 0.6473 - accuracy: 0.8458\n",
            "Epoch 23/50\n",
            "484/484 [==============================] - 76s 158ms/step - loss: 0.6380 - accuracy: 0.8464\n",
            "Epoch 24/50\n",
            "484/484 [==============================] - 76s 157ms/step - loss: 0.6242 - accuracy: 0.8483\n",
            "Epoch 25/50\n",
            "484/484 [==============================] - 75s 156ms/step - loss: 0.6109 - accuracy: 0.8478\n",
            "Epoch 26/50\n",
            "484/484 [==============================] - 75s 154ms/step - loss: 0.6056 - accuracy: 0.8492\n",
            "Epoch 27/50\n",
            "484/484 [==============================] - 77s 160ms/step - loss: 0.5994 - accuracy: 0.8478\n",
            "Epoch 28/50\n",
            "484/484 [==============================] - 74s 153ms/step - loss: 0.5888 - accuracy: 0.8492\n",
            "Epoch 29/50\n",
            "484/484 [==============================] - 78s 160ms/step - loss: 0.5931 - accuracy: 0.8489\n",
            "Epoch 30/50\n",
            "484/484 [==============================] - 76s 158ms/step - loss: 0.5834 - accuracy: 0.8492\n",
            "Epoch 31/50\n",
            "484/484 [==============================] - 74s 152ms/step - loss: 0.5774 - accuracy: 0.8486\n",
            "Epoch 32/50\n",
            "484/484 [==============================] - 74s 154ms/step - loss: 0.5706 - accuracy: 0.8496\n",
            "Epoch 33/50\n",
            "484/484 [==============================] - 75s 155ms/step - loss: 0.5656 - accuracy: 0.8498\n",
            "Epoch 34/50\n",
            "484/484 [==============================] - 78s 161ms/step - loss: 0.5630 - accuracy: 0.8498\n",
            "Epoch 35/50\n",
            "484/484 [==============================] - 79s 162ms/step - loss: 0.5585 - accuracy: 0.8490\n",
            "Epoch 36/50\n",
            "484/484 [==============================] - 79s 163ms/step - loss: 0.5518 - accuracy: 0.8498\n",
            "Epoch 37/50\n",
            "484/484 [==============================] - 75s 156ms/step - loss: 0.5549 - accuracy: 0.8496\n",
            "Epoch 38/50\n",
            "484/484 [==============================] - 76s 156ms/step - loss: 0.5628 - accuracy: 0.8467\n",
            "Epoch 39/50\n",
            "484/484 [==============================] - 80s 166ms/step - loss: 0.5572 - accuracy: 0.8483\n",
            "Epoch 40/50\n",
            "484/484 [==============================] - 77s 160ms/step - loss: 0.5435 - accuracy: 0.8500\n",
            "Epoch 41/50\n",
            "484/484 [==============================] - 74s 154ms/step - loss: 0.5360 - accuracy: 0.8497\n",
            "Epoch 42/50\n",
            "484/484 [==============================] - 78s 160ms/step - loss: 0.5354 - accuracy: 0.8496\n",
            "Epoch 43/50\n",
            "484/484 [==============================] - 77s 160ms/step - loss: 0.5308 - accuracy: 0.8502\n",
            "Epoch 44/50\n",
            "484/484 [==============================] - 78s 162ms/step - loss: 0.5304 - accuracy: 0.8498\n",
            "Epoch 45/50\n",
            "484/484 [==============================] - 77s 160ms/step - loss: 0.5294 - accuracy: 0.8503\n",
            "Epoch 46/50\n",
            "484/484 [==============================] - 76s 157ms/step - loss: 0.5302 - accuracy: 0.8501\n",
            "Epoch 47/50\n",
            "484/484 [==============================] - 79s 162ms/step - loss: 0.5542 - accuracy: 0.8461\n",
            "Epoch 48/50\n",
            "484/484 [==============================] - 79s 162ms/step - loss: 0.5610 - accuracy: 0.8428\n",
            "Epoch 49/50\n",
            "484/484 [==============================] - 79s 163ms/step - loss: 0.5276 - accuracy: 0.8484\n",
            "Epoch 50/50\n",
            "484/484 [==============================] - 77s 159ms/step - loss: 0.5183 - accuracy: 0.8512\n"
          ]
        }
      ]
    },
    {
      "cell_type": "code",
      "source": [
        "acc = history.history['accuracy']\n",
        "loss = history.history['loss']\n",
        "\n",
        "epochs = range(len(acc))\n",
        "\n",
        "plt.plot(epochs, acc, 'b', label='Training accuracy')\n",
        "plt.title('Training accuracy')\n",
        "\n",
        "plt.figure()\n",
        "\n",
        "plt.plot(epochs, loss, 'b', label='Training Loss')\n",
        "plt.title('Training loss')\n",
        "plt.legend()\n",
        "\n",
        "plt.show()"
      ],
      "metadata": {
        "colab": {
          "base_uri": "https://localhost:8080/",
          "height": 887
        },
        "id": "zo7RlrRqjAaX",
        "outputId": "63938d39-2b3e-4ab8-cd3c-34904f90a288"
      },
      "execution_count": 43,
      "outputs": [
        {
          "output_type": "display_data",
          "data": {
            "text/plain": [
              "<Figure size 640x480 with 1 Axes>"
            ],
            "image/png": "[encoded data removed]"
          },
          "metadata": {}
        },
        {
          "output_type": "display_data",
          "data": {
            "text/plain": [
              "<Figure size 640x480 with 1 Axes>"
            ],
            "image/png": "[encoded data removed]"
          },
          "metadata": {}
        }
      ]
    },
    {
      "cell_type": "markdown",
      "source": [
        "##Seeing the model in action"
      ],
      "metadata": {
        "id": "jnOikcCMjE95"
      }
    },
    {
      "cell_type": "markdown",
      "source": [
        "This code generates text after reading the seed_text (which can be modified)."
      ],
      "metadata": {
        "id": "-debiLygjTKc"
      }
    },
    {
      "cell_type": "code",
      "source": [
        "seed_text = \"Help me Obi Wan Kenobi, you're my only hope\"\n",
        "next_words = 100\n",
        "\n",
        "for _ in range(next_words):\n",
        "    # Convert the text into sequences\n",
        "    token_list = tokenizer.texts_to_sequences([seed_text])[0]\n",
        "    # Pad the sequences\n",
        "    token_list = pad_sequences([token_list], maxlen=max_sequence_len-1, padding='pre')\n",
        "    # Get the probabilities of predicting a word\n",
        "    predicted = model.predict(token_list, verbose=0)\n",
        "    # Choose the next word based on the maximum probability\n",
        "    predicted = np.argmax(predicted, axis=-1).item()\n",
        "    # Get the actual word from the word index\n",
        "    output_word = tokenizer.index_word[predicted]\n",
        "    # Append to the current text\n",
        "    seed_text += \" \" + output_word\n",
        "\n",
        "print(seed_text)"
      ],
      "metadata": {
        "colab": {
          "base_uri": "https://localhost:8080/"
        },
        "id": "vMiU45WSjDxt",
        "outputId": "4fda792b-dfd1-49a3-963a-80ef42f38686"
      },
      "execution_count": 45,
      "outputs": [
        {
          "output_type": "stream",
          "name": "stdout",
          "text": [
            "Help me Obi Wan Kenobi, you're my only hope my love another best hate new mayst still ' new so dear know in my heart forbear that truth doth face ere long ' see the where hand it may see dead faults seeing so doth greater ' canst know what merit do now love and me well alter'd lies wrong could new ' ' ' thou art much too fair and mine eye untrue eyes one tongue that tongue debarr'd stone to mend the pebbled shore at cross decrease head transfix growth on me now stand thee doth be dead ' ' swear doth art art more so fair\n"
          ]
        }
      ]
    }
  ]
}