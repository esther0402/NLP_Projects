{
  "nbformat": 4,
  "nbformat_minor": 0,
  "metadata": {
    "colab": {
      "provenance": [],
      "authorship_tag": "ABX9TyPmA6+yau132UZ2dwpglKTl",
      "include_colab_link": true
    },
    "kernelspec": {
      "name": "python3",
      "display_name": "Python 3"
    },
    "language_info": {
      "name": "python"
    }
  },
  "cells": [
    {
      "cell_type": "markdown",
      "metadata": {
        "id": "view-in-github",
        "colab_type": "text"
      },
      "source": [
        "<a href=\"https://colab.research.google.com/github/esther0402/NLP_Projects/blob/main/Binary_Classifier_Sarcasm_Dataset.ipynb\" target=\"_parent\"><img src=\"https://colab.research.google.com/assets/colab-badge.svg\" alt=\"Open In Colab\"/></a>"
      ]
    },
    {
      "cell_type": "markdown",
      "source": [
        "This project aims to build a model that detects sarcasm in news headlines."
      ],
      "metadata": {
        "id": "YAiFQ4HC5wNF"
      }
    },
    {
      "cell_type": "markdown",
      "source": [
        "##Getting the data"
      ],
      "metadata": {
        "id": "U6nRZ--V6cA9"
      }
    },
    {
      "cell_type": "code",
      "execution_count": 4,
      "metadata": {
        "colab": {
          "base_uri": "https://localhost:8080/"
        },
        "id": "Es9pfro95rjr",
        "outputId": "90368093-45f8-419a-9278-869051c638c0"
      },
      "outputs": [
        {
          "output_type": "stream",
          "name": "stdout",
          "text": [
            "--2023-12-29 04:54:40--  https://storage.googleapis.com/tensorflow-1-public/course3/sarcasm.json\n",
            "Resolving storage.googleapis.com (storage.googleapis.com)... 142.251.167.207, 172.253.115.207, 172.253.122.207, ...\n",
            "Connecting to storage.googleapis.com (storage.googleapis.com)|142.251.167.207|:443... connected.\n",
            "HTTP request sent, awaiting response... 200 OK\n",
            "Length: 5643545 (5.4M) [application/json]\n",
            "Saving to: ‘sarcasm.json.1’\n",
            "\n",
            "\rsarcasm.json.1        0%[                    ]       0  --.-KB/s               \rsarcasm.json.1      100%[===================>]   5.38M  --.-KB/s    in 0.02s   \n",
            "\n",
            "2023-12-29 04:54:40 (225 MB/s) - ‘sarcasm.json.1’ saved [5643545/5643545]\n",
            "\n"
          ]
        }
      ],
      "source": [
        "# Download the dataset\n",
        "!wget https://storage.googleapis.com/tensorflow-1-public/course3/sarcasm.json"
      ]
    },
    {
      "cell_type": "code",
      "source": [
        "import json\n",
        "\n",
        "# Load the JSON file\n",
        "with open(\"./sarcasm.json\", 'r') as file:\n",
        "    datastore = json.load(file)\n",
        "\n",
        "# Initialize the lists\n",
        "sentences = []\n",
        "labels = []\n",
        "\n",
        "# Collect sentences and labels into the lists\n",
        "for item in datastore:\n",
        "    sentences.append(item['headline'])\n",
        "    labels.append(item['is_sarcastic'])"
      ],
      "metadata": {
        "id": "zHDTl_Ru5_cX"
      },
      "execution_count": 5,
      "outputs": []
    },
    {
      "cell_type": "markdown",
      "source": [
        "##Setting the Hyperparameters"
      ],
      "metadata": {
        "id": "hCJutzn_6ao-"
      }
    },
    {
      "cell_type": "code",
      "source": [
        "training_size = 20000\n",
        "vocab_size = 10000\n",
        "max_length = 32\n",
        "embedding_dim = 16"
      ],
      "metadata": {
        "id": "mNQRm61E6Wrc"
      },
      "execution_count": 6,
      "outputs": []
    },
    {
      "cell_type": "markdown",
      "source": [
        "##Preprocessing the data\n",
        "This code splits the dataset into training and testing data and labels."
      ],
      "metadata": {
        "id": "5IXalTEK6lSp"
      }
    },
    {
      "cell_type": "code",
      "source": [
        "# Split the sentences\n",
        "training_sentences = sentences[0:training_size]\n",
        "testing_sentences = sentences[training_size:]\n",
        "\n",
        "# Split the labels\n",
        "training_labels = labels[0:training_size]\n",
        "testing_labels = labels[training_size:]"
      ],
      "metadata": {
        "id": "7sl-L5mH6kif"
      },
      "execution_count": 7,
      "outputs": []
    },
    {
      "cell_type": "markdown",
      "source": [
        "This code aims to preprocess the text and labels for the model."
      ],
      "metadata": {
        "id": "_-Lc6Nul6qV5"
      }
    },
    {
      "cell_type": "code",
      "source": [
        "import numpy as np\n",
        "from tensorflow.keras.preprocessing.text import Tokenizer\n",
        "from tensorflow.keras.preprocessing.sequence import pad_sequences\n",
        "\n",
        "# Parameters for padding and OOV tokens\n",
        "trunc_type='post'\n",
        "padding_type='post'\n",
        "oov_tok = \"<OOV>\"\n",
        "\n",
        "# Initialize the Tokenizer class\n",
        "tokenizer = Tokenizer(num_words=vocab_size, oov_token=oov_tok)\n",
        "\n",
        "# Generate the word index dictionary\n",
        "tokenizer.fit_on_texts(training_sentences)\n",
        "word_index = tokenizer.word_index\n",
        "\n",
        "# Generate and pad the training sequences\n",
        "training_sequences = tokenizer.texts_to_sequences(training_sentences)\n",
        "training_padded = pad_sequences(training_sequences, maxlen=max_length, padding=padding_type, truncating=trunc_type)\n",
        "\n",
        "# Generate and pad the testing sequences\n",
        "testing_sequences = tokenizer.texts_to_sequences(testing_sentences)\n",
        "testing_padded = pad_sequences(testing_sequences, maxlen=max_length, padding=padding_type, truncating=trunc_type)\n",
        "\n",
        "# Convert the labels lists into numpy arrays\n",
        "training_labels = np.array(training_labels)\n",
        "testing_labels = np.array(testing_labels)"
      ],
      "metadata": {
        "id": "A3zes2AS6vAl"
      },
      "execution_count": 8,
      "outputs": []
    },
    {
      "cell_type": "markdown",
      "source": [
        "##Creating the model\n",
        "This code tests the GlobalAveragePooling1D layer."
      ],
      "metadata": {
        "id": "Vt65wZVE69qw"
      }
    },
    {
      "cell_type": "code",
      "source": [
        "import tensorflow as tf\n",
        "\n",
        "# Initialize a GlobalAveragePooling1D (GAP1D) layer\n",
        "gap1d_layer = tf.keras.layers.GlobalAveragePooling1D()\n",
        "\n",
        "# Define sample array\n",
        "sample_array = np.array([[[10,2],[1,3],[1,1]]])\n",
        "\n",
        "# Print shape and contents of sample array\n",
        "print(f'shape of sample_array = {sample_array.shape}')\n",
        "print(f'sample array: {sample_array}')\n",
        "\n",
        "# Pass the sample array to the GAP1D layer\n",
        "output = gap1d_layer(sample_array)\n",
        "\n",
        "# Print shape and contents of the GAP1D output array\n",
        "print(f'output shape of gap1d_layer: {output.shape}')\n",
        "print(f'output array of gap1d_layer: {output.numpy()}')"
      ],
      "metadata": {
        "colab": {
          "base_uri": "https://localhost:8080/"
        },
        "id": "UipImBEg7Ajw",
        "outputId": "1beb7514-f0dc-4dba-ab0d-3f1a09b28570"
      },
      "execution_count": 9,
      "outputs": [
        {
          "output_type": "stream",
          "name": "stdout",
          "text": [
            "shape of sample_array = (1, 3, 2)\n",
            "sample array: [[[10  2]\n",
            "  [ 1  3]\n",
            "  [ 1  1]]]\n",
            "output shape of gap1d_layer: (1, 2)\n",
            "output array of gap1d_layer: [[4 2]]\n"
          ]
        }
      ]
    },
    {
      "cell_type": "markdown",
      "source": [
        "* The sample_array has the shape (1, 3, 2) - it's a 3D array with one sample, three time steps, and two features at each time step.\n",
        "* The GlobalAveragePooling1D layer takes the average along the time dimension. In this case, for each feature, it calculates the average across the three time steps. The output will have shape (1, 2) because there is one sample, and the average is taken across the time dimension for each of the two features.\n",
        "*The output array is a 2D array with one sample and two values. Each value represents the average of the corresponding feature across the three time steps in the original array. In this case, the first value (4) is the average of [10, 1, 1], and the second value (2) is the average of [2, 3, 1]."
      ],
      "metadata": {
        "id": "ImXbYfZQ7g5x"
      }
    },
    {
      "cell_type": "markdown",
      "source": [
        "This code builds and compiles the model."
      ],
      "metadata": {
        "id": "fB6BBIzV8cGH"
      }
    },
    {
      "cell_type": "code",
      "source": [
        "# Build the model\n",
        "model = tf.keras.Sequential([\n",
        "    tf.keras.layers.Embedding(vocab_size, embedding_dim, input_length=max_length),\n",
        "    tf.keras.layers.GlobalAveragePooling1D(),\n",
        "    tf.keras.layers.Dense(24, activation='relu'),\n",
        "    tf.keras.layers.Dense(1, activation='sigmoid')\n",
        "])\n",
        "\n",
        "# Compile the model\n",
        "model.compile(loss='binary_crossentropy',optimizer='adam',metrics=['accuracy'])"
      ],
      "metadata": {
        "id": "IPsFCtwn7n2h"
      },
      "execution_count": 14,
      "outputs": []
    },
    {
      "cell_type": "markdown",
      "source": [
        "This code trains the model."
      ],
      "metadata": {
        "id": "CuEbs5M29I3S"
      }
    },
    {
      "cell_type": "code",
      "source": [
        "num_epochs = 30\n",
        "\n",
        "# Train the model\n",
        "history = model.fit(training_padded, training_labels, epochs=num_epochs, validation_data=(testing_padded, testing_labels), verbose=2)"
      ],
      "metadata": {
        "colab": {
          "base_uri": "https://localhost:8080/"
        },
        "id": "wwgXoH3y9EXh",
        "outputId": "d858cced-77b9-468f-ab3a-8360f24062b2"
      },
      "execution_count": 16,
      "outputs": [
        {
          "output_type": "stream",
          "name": "stdout",
          "text": [
            "Epoch 1/30\n",
            "625/625 - 4s - loss: 0.5599 - accuracy: 0.7041 - val_loss: 0.3980 - val_accuracy: 0.8347 - 4s/epoch - 6ms/step\n",
            "Epoch 2/30\n",
            "625/625 - 2s - loss: 0.3110 - accuracy: 0.8755 - val_loss: 0.3518 - val_accuracy: 0.8436 - 2s/epoch - 3ms/step\n",
            "Epoch 3/30\n",
            "625/625 - 2s - loss: 0.2323 - accuracy: 0.9087 - val_loss: 0.3486 - val_accuracy: 0.8493 - 2s/epoch - 3ms/step\n",
            "Epoch 4/30\n",
            "625/625 - 2s - loss: 0.1865 - accuracy: 0.9293 - val_loss: 0.3645 - val_accuracy: 0.8547 - 2s/epoch - 3ms/step\n",
            "Epoch 5/30\n",
            "625/625 - 2s - loss: 0.1555 - accuracy: 0.9429 - val_loss: 0.3942 - val_accuracy: 0.8478 - 2s/epoch - 3ms/step\n",
            "Epoch 6/30\n",
            "625/625 - 4s - loss: 0.1305 - accuracy: 0.9531 - val_loss: 0.4288 - val_accuracy: 0.8474 - 4s/epoch - 6ms/step\n",
            "Epoch 7/30\n",
            "625/625 - 2s - loss: 0.1130 - accuracy: 0.9606 - val_loss: 0.4700 - val_accuracy: 0.8420 - 2s/epoch - 3ms/step\n",
            "Epoch 8/30\n",
            "625/625 - 2s - loss: 0.0958 - accuracy: 0.9675 - val_loss: 0.5221 - val_accuracy: 0.8348 - 2s/epoch - 3ms/step\n",
            "Epoch 9/30\n",
            "625/625 - 2s - loss: 0.0831 - accuracy: 0.9726 - val_loss: 0.5735 - val_accuracy: 0.8341 - 2s/epoch - 3ms/step\n",
            "Epoch 10/30\n",
            "625/625 - 2s - loss: 0.0714 - accuracy: 0.9768 - val_loss: 0.6222 - val_accuracy: 0.8286 - 2s/epoch - 3ms/step\n",
            "Epoch 11/30\n",
            "625/625 - 2s - loss: 0.0632 - accuracy: 0.9798 - val_loss: 0.6803 - val_accuracy: 0.8253 - 2s/epoch - 3ms/step\n",
            "Epoch 12/30\n",
            "625/625 - 3s - loss: 0.0544 - accuracy: 0.9829 - val_loss: 0.7443 - val_accuracy: 0.8223 - 3s/epoch - 5ms/step\n",
            "Epoch 13/30\n",
            "625/625 - 2s - loss: 0.0463 - accuracy: 0.9858 - val_loss: 0.8274 - val_accuracy: 0.8190 - 2s/epoch - 3ms/step\n",
            "Epoch 14/30\n",
            "625/625 - 2s - loss: 0.0413 - accuracy: 0.9876 - val_loss: 0.8848 - val_accuracy: 0.8174 - 2s/epoch - 3ms/step\n",
            "Epoch 15/30\n",
            "625/625 - 2s - loss: 0.0367 - accuracy: 0.9891 - val_loss: 0.9459 - val_accuracy: 0.8173 - 2s/epoch - 3ms/step\n",
            "Epoch 16/30\n",
            "625/625 - 2s - loss: 0.0319 - accuracy: 0.9904 - val_loss: 1.0547 - val_accuracy: 0.8146 - 2s/epoch - 3ms/step\n",
            "Epoch 17/30\n",
            "625/625 - 2s - loss: 0.0280 - accuracy: 0.9917 - val_loss: 1.1158 - val_accuracy: 0.8132 - 2s/epoch - 3ms/step\n",
            "Epoch 18/30\n",
            "625/625 - 3s - loss: 0.0243 - accuracy: 0.9928 - val_loss: 1.1543 - val_accuracy: 0.8125 - 3s/epoch - 5ms/step\n",
            "Epoch 19/30\n",
            "625/625 - 3s - loss: 0.0232 - accuracy: 0.9930 - val_loss: 1.1898 - val_accuracy: 0.8138 - 3s/epoch - 4ms/step\n",
            "Epoch 20/30\n",
            "625/625 - 2s - loss: 0.0195 - accuracy: 0.9945 - val_loss: 1.2975 - val_accuracy: 0.8101 - 2s/epoch - 3ms/step\n",
            "Epoch 21/30\n",
            "625/625 - 2s - loss: 0.0183 - accuracy: 0.9948 - val_loss: 1.3478 - val_accuracy: 0.8106 - 2s/epoch - 3ms/step\n",
            "Epoch 22/30\n",
            "625/625 - 2s - loss: 0.0152 - accuracy: 0.9963 - val_loss: 1.4387 - val_accuracy: 0.8101 - 2s/epoch - 3ms/step\n",
            "Epoch 23/30\n",
            "625/625 - 2s - loss: 0.0139 - accuracy: 0.9961 - val_loss: 1.4851 - val_accuracy: 0.8076 - 2s/epoch - 3ms/step\n",
            "Epoch 24/30\n",
            "625/625 - 3s - loss: 0.0134 - accuracy: 0.9960 - val_loss: 1.5061 - val_accuracy: 0.8074 - 3s/epoch - 5ms/step\n",
            "Epoch 25/30\n",
            "625/625 - 2s - loss: 0.0121 - accuracy: 0.9966 - val_loss: 1.5510 - val_accuracy: 0.8062 - 2s/epoch - 4ms/step\n",
            "Epoch 26/30\n",
            "625/625 - 2s - loss: 0.0111 - accuracy: 0.9970 - val_loss: 1.5961 - val_accuracy: 0.8012 - 2s/epoch - 3ms/step\n",
            "Epoch 27/30\n",
            "625/625 - 2s - loss: 0.0107 - accuracy: 0.9974 - val_loss: 1.7477 - val_accuracy: 0.8070 - 2s/epoch - 3ms/step\n",
            "Epoch 28/30\n",
            "625/625 - 2s - loss: 0.0102 - accuracy: 0.9970 - val_loss: 1.7210 - val_accuracy: 0.8040 - 2s/epoch - 3ms/step\n",
            "Epoch 29/30\n",
            "625/625 - 2s - loss: 0.0093 - accuracy: 0.9974 - val_loss: 1.7627 - val_accuracy: 0.8037 - 2s/epoch - 3ms/step\n",
            "Epoch 30/30\n",
            "625/625 - 3s - loss: 0.0098 - accuracy: 0.9973 - val_loss: 1.9107 - val_accuracy: 0.8022 - 3s/epoch - 4ms/step\n"
          ]
        }
      ]
    },
    {
      "cell_type": "markdown",
      "source": [
        "##Visualizing the Results"
      ],
      "metadata": {
        "id": "EzRhPWC094jF"
      }
    },
    {
      "cell_type": "code",
      "source": [
        "import matplotlib.pyplot as plt\n",
        "\n",
        "# Plot utility\n",
        "def plot_graphs(history, string):\n",
        "  plt.plot(history.history[string])\n",
        "  plt.plot(history.history['val_'+string])\n",
        "  plt.xlabel(\"Epochs\")\n",
        "  plt.ylabel(string)\n",
        "  plt.legend([string, 'val_'+string])\n",
        "  plt.show()\n",
        "\n",
        "# Plot the accuracy and loss\n",
        "plot_graphs(history, \"accuracy\")\n",
        "plot_graphs(history, \"loss\")"
      ],
      "metadata": {
        "colab": {
          "base_uri": "https://localhost:8080/",
          "height": 886
        },
        "id": "q05uz1Ai94Sm",
        "outputId": "bd2fedb3-394a-4017-b34a-28010ccc96b9"
      },
      "execution_count": 17,
      "outputs": [
        {
          "output_type": "display_data",
          "data": {
            "text/plain": [
              "<Figure size 640x480 with 1 Axes>"
            ],
            "image/png": "[encoded data removed]"
          },
          "metadata": {}
        },
        {
          "output_type": "display_data",
          "data": {
            "text/plain": [
              "<Figure size 640x480 with 1 Axes>"
            ],
            "image/png": "[encoded data removed]"
          },
          "metadata": {}
        }
      ]
    }
  ]
}